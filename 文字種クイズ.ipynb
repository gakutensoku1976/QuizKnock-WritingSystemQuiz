{
  "nbformat": 4,
  "nbformat_minor": 0,
  "metadata": {
    "colab": {
      "provenance": [],
      "authorship_tag": "ABX9TyMTmsqc9BeZI969GLeqr3dd",
      "include_colab_link": true
    },
    "kernelspec": {
      "name": "python3",
      "display_name": "Python 3"
    },
    "language_info": {
      "name": "python"
    }
  },
  "cells": [
    {
      "cell_type": "markdown",
      "metadata": {
        "id": "view-in-github",
        "colab_type": "text"
      },
      "source": [
        "<a href=\"https://colab.research.google.com/github/gakutensoku1976/QuizKnock-WritingSystemQuiz/blob/main/%E6%96%87%E5%AD%97%E7%A8%AE%E3%82%AF%E3%82%A4%E3%82%BA.ipynb\" target=\"_parent\"><img src=\"https://colab.research.google.com/assets/colab-badge.svg\" alt=\"Open In Colab\"/></a>"
      ]
    },
    {
      "cell_type": "code",
      "execution_count": null,
      "metadata": {
        "id": "n6DkH-6hjC0N"
      },
      "outputs": [],
      "source": [
        "# QuizKnockさん考案の「文字種クイズ」作成をサポートするPythonプログラムです\n",
        "# https://www.youtube.com/watch?v=1GybUrTg8Zo\n",
        "# https://www.youtube.com/watch?v=BcNBwkWcGcM\n",
        "# プログラムのアウトラインはChatGPT(https://openai.com/blog/chatgpt)で作成しました\n",
        "# 2023/04/26 初版公開\n",
        "# 2023/04/27 かな小文字(ァ～ゎ)対応版"
      ]
    },
    {
      "cell_type": "code",
      "source": [
        "import unicodedata\n",
        "\n",
        "def is_hiragana(char):\n",
        "    name = unicodedata.name(char)\n",
        "    return \"HIRAGANA\" in name\n",
        "\n",
        "def is_katakana(char):\n",
        "    name = unicodedata.name(char)\n",
        "    return \"KATAKANA\" in name\n",
        "\n",
        "def replace_chars(string):\n",
        "    new_string = \"\"\n",
        "    for char in string:\n",
        "        if char in  [\"ァ\", \"ィ\", \"ゥ\", \"ェ\", \"ォ\", \"ッ\", \"ャ\", \"ュ\", \"ョ\", \"ヮ\"]:\n",
        "            new_string += \"ァ\"\n",
        "        elif char in  [\"ぁ\", \"ぃ\", \"ぅ\", \"ぇ\", \"ぉ\", \"っ\", \"ゃ\", \"ゅ\", \"ょ\", \"ゎ\"]:\n",
        "            new_string += \"ぁ\"\n",
        "        elif char.islower():\n",
        "            new_string += \"a\"\n",
        "        elif char.isupper():\n",
        "            new_string += \"A\"\n",
        "        elif char.isdigit():\n",
        "            new_string += \"1\"\n",
        "        elif char.isalpha() and not char.isascii():\n",
        "            new_string += \"あ\" if is_hiragana(char) else \"ア\" if is_katakana(char) else \"漢\"\n",
        "        else:\n",
        "            new_string += char\n",
        "    return new_string\n"
      ],
      "metadata": {
        "id": "gsaTpwGZjgBK"
      },
      "execution_count": null,
      "outputs": []
    },
    {
      "cell_type": "code",
      "source": [
        "replace_chars(\"ヤバイTシャツ屋さん123☆っヮ\")"
      ],
      "metadata": {
        "colab": {
          "base_uri": "https://localhost:8080/",
          "height": 35
        },
        "id": "O8iJ8VoEj_2Z",
        "outputId": "e23f2b7a-798c-4e4f-f40c-1e417dd3b748"
      },
      "execution_count": null,
      "outputs": [
        {
          "output_type": "execute_result",
          "data": {
            "text/plain": [
              "'アアアAアァア漢ああ111☆ぁァ'"
            ],
            "application/vnd.google.colaboratory.intrinsic+json": {
              "type": "string"
            }
          },
          "metadata": {},
          "execution_count": 10
        }
      ]
    },
    {
      "cell_type": "code",
      "source": [],
      "metadata": {
        "id": "V_NwbRFHkFa1"
      },
      "execution_count": null,
      "outputs": []
    }
  ]
}